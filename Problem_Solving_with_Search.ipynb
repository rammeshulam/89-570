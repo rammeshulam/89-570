{
  "nbformat": 4,
  "nbformat_minor": 0,
  "metadata": {
    "colab": {
      "name": "Problem Solving with Search",
      "provenance": [],
      "toc_visible": true
    },
    "kernelspec": {
      "name": "python3",
      "display_name": "Python 3"
    }
  },
  "cells": [
    {
      "cell_type": "markdown",
      "metadata": {
        "id": "9cmoCgZZZuVu"
      },
      "source": [
        "<H1> Problem Solving with Search</H1>"
      ]
    },
    {
      "cell_type": "markdown",
      "metadata": {
        "id": "c48PpmCwaXBa"
      },
      "source": [
        "# Some utility functions and imports"
      ]
    },
    {
      "cell_type": "code",
      "metadata": {
        "id": "9RMDRPQDkbp0"
      },
      "source": [
        "import sys\n",
        "import pandas as pd\n",
        "import json\n",
        "from collections import deque\n",
        "import heapq\n",
        "\n",
        "from IPython.display import display, HTML\n",
        "from functools import total_ordering\n",
        "\n",
        "debug = True\n",
        "def pretty_print(df):\n",
        "    return display( HTML( df.to_html().replace(\"\\\\n\",\"<br>\")))\n",
        "\n",
        "def format_search_log(log,limit=100):\n",
        "  columns=['node to expand', 'path', 'left in frontier', 'valid actions','is_goal']\n",
        "  return pretty_print(pd.DataFrame(log, columns=columns).head(limit))\n",
        "\n",
        "def format_search_with_costs_log(log, limit=100):\n",
        "  columns=['node to expand', 'path', 'g','f','left in frontier', 'valid actions','is_goal']\n",
        "  return pretty_print(pd.DataFrame(log, columns=columns).head(limit))\n",
        "\n",
        "# dict on python 3.7+ preserves insertion order.\n",
        "# This is a quick way to create a set which preserves it as well.\n",
        "# required for presentation purposes only.\n",
        "def ordered_set(coll):\n",
        "  return dict.fromkeys(coll).keys()\n",
        "\n",
        "def swap_tuple(a_tuple, i, j):\n",
        "  l = list(a_tuple)\n",
        "  l[i],l[j] = l[j],l[i]\n",
        "  return tuple(l)\n",
        "\n",
        "def load_routes(routes, symmetric=True):\n",
        "  def insert(frm,to,cost):\n",
        "    if frm in G:\n",
        "      G[frm][to]=cost\n",
        "    else:\n",
        "      G[frm] = {to:cost}\n",
        "  G = {}\n",
        "  routes = routes.splitlines()\n",
        "  for route in routes:\n",
        "    r = route.split(',')\n",
        "    insert(r[0],r[1],int(r[2]))\n",
        "    if symmetric:\n",
        "      insert(r[1],r[0],int(r[2]))\n",
        "  return G"
      ],
      "execution_count": null,
      "outputs": []
    },
    {
      "cell_type": "code",
      "metadata": {
        "id": "OjB3eqiEsxA8"
      },
      "source": [
        "#There is no priority in Python which allows custom sorting function\n",
        "class PriorityQueue:\n",
        "\n",
        "    def __init__(self, f=lambda x: x):\n",
        "        self.heap = []\n",
        "        self.f = f\n",
        "\n",
        "    def append(self, item):\n",
        "        heapq.heappush(self.heap, (self.f(item), item))\n",
        "\n",
        "    def extend(self, items):\n",
        "        for item in items:\n",
        "            self.append(item)\n",
        "\n",
        "    def pop(self):\n",
        "        if self.heap:\n",
        "            return heapq.heappop(self.heap)[1]\n",
        "        else:\n",
        "            raise Exception('Trying to pop from empty PriorityQueue.')\n",
        "\n",
        "    def __len__(self):\n",
        "        return len(self.heap)\n",
        "\n",
        "    def __contains__(self, key):\n",
        "        return any([item == key for _, item in self.heap])\n",
        "\n",
        "    def __getitem__(self, key):\n",
        "        for value, item in self.heap:\n",
        "            if item == key:\n",
        "                return value\n",
        "        raise KeyError(str(key) + \" is not in the priority queue\")\n",
        "\n",
        "    def __delitem__(self, key):\n",
        "        try:\n",
        "            del self.heap[[item == key for _, item in self.heap].index(True)]\n",
        "        except ValueError:\n",
        "            raise KeyError(str(key) + \" is not in the priority queue\")\n",
        "        heapq.heapify(self.heap)\n",
        "    def __repr__(self):\n",
        "      return str(self.heap)"
      ],
      "execution_count": null,
      "outputs": []
    },
    {
      "cell_type": "markdown",
      "metadata": {
        "id": "sdaw6a_XakrA"
      },
      "source": [
        "# Problem Formulation"
      ]
    },
    {
      "cell_type": "markdown",
      "metadata": {
        "id": "0iukdkSebRgU"
      },
      "source": [
        "## Sliding tile puzzle"
      ]
    },
    {
      "cell_type": "code",
      "metadata": {
        "id": "xSbYPoMcva7s"
      },
      "source": [
        "class TilePuzzleProblem:\n",
        "  \n",
        "  def __init__(self, s_start, n):\n",
        "    self.s_start = s_start\n",
        "    self.n = n\n",
        "    self.goal = tuple(range(0,n**2))\n",
        "    self.moves = {\n",
        "      'left': lambda x: x[0]>0,\n",
        "      'right':lambda x: x[0]<n-1,\n",
        "      'up':   lambda x: x[1]>0,\n",
        "      'down': lambda x: x[1]<n-1        \n",
        "    }\n",
        "    self.transitions = {\n",
        "      'left':  -1,\n",
        "      'right': 1,\n",
        "      'up':    -self.n,\n",
        "      'down':  self.n        \n",
        "    }\n",
        "  \n",
        "  def actions(self, s):\n",
        "    blank = s.index(0)\n",
        "    xy = (blank%self.n, blank//self.n)\n",
        "    return [m for (m,f) in self.moves.items() if f(xy)]\n",
        "  \n",
        "  def succ(self, s, a):\n",
        "    curr_i = s.index(0)\n",
        "    new_i = curr_i + self.transitions[a]\n",
        "    return swap_tuple(s, curr_i, new_i)\n",
        "    \n",
        "  def is_goal(self, s):\n",
        "    return s==self.goal\n",
        "\n",
        "  def step_cost(self, s, a):\n",
        "    return 1\n",
        "\n",
        "  def state_str(self, s):\n",
        "    return '\\n'.join( [str( s[i*self.n:(i+1)*self.n]) for i in range(0,self.n)])"
      ],
      "execution_count": null,
      "outputs": []
    },
    {
      "cell_type": "code",
      "metadata": {
        "id": "jPpYC6D1yW_i"
      },
      "source": [
        "s_start = (\n",
        "    3, 1, 2,\n",
        "    4, 0, 5,\n",
        "    6, 7, 8\n",
        ")\n"
      ],
      "execution_count": null,
      "outputs": []
    },
    {
      "cell_type": "code",
      "metadata": {
        "id": "KfXh-o6ryegS",
        "colab": {
          "base_uri": "https://localhost:8080/",
          "height": 374
        },
        "outputId": "004a6b00-c454-4ce2-c6bb-859a7535ccf6"
      },
      "source": [
        "tp = TilePuzzleProblem(s_start,3)\n",
        "print(\"Initial State:\")\n",
        "print(tp.state_str(s_start))\n",
        "print(f'is_goal? {tp.is_goal(s_start)}')\n",
        "print(\"Applicable actions for initial state:\")\n",
        "print(tp.actions(s_start))\n",
        "\n",
        "\n",
        "print(\"\\nGenerating a new state by moving the blank left\")\n",
        "s = tp.succ(s_start, 'left')\n",
        "print(tp.state_str(s))\n",
        "print(f'is_goal? {tp.is_goal(s)}')\n",
        "print(\"Applicable actions for the new state:\")\n",
        "print(tp.actions(s))\n",
        "\n",
        "\n",
        "print(\"\\nGenerating a new state by moving up\")\n",
        "s = tp.succ(s, 'up')\n",
        "print(tp.state_str(s))\n",
        "print(f'is_goal? {tp.is_goal(s)}')\n"
      ],
      "execution_count": null,
      "outputs": [
        {
          "output_type": "stream",
          "text": [
            "Initial State:\n",
            "(3, 1, 2)\n",
            "(4, 0, 5)\n",
            "(6, 7, 8)\n",
            "is_goal? False\n",
            "Applicable actions for initial state:\n",
            "['left', 'right', 'up', 'down']\n",
            "\n",
            "Generating a new state by moving the blank left\n",
            "(3, 1, 2)\n",
            "(0, 4, 5)\n",
            "(6, 7, 8)\n",
            "is_goal? False\n",
            "Applicable actions for the new state:\n",
            "['right', 'up', 'down']\n",
            "\n",
            "Generating a new state by moving up\n",
            "(0, 1, 2)\n",
            "(3, 4, 5)\n",
            "(6, 7, 8)\n",
            "is_goal? True\n"
          ],
          "name": "stdout"
        }
      ]
    },
    {
      "cell_type": "markdown",
      "metadata": {
        "id": "mHIfR6OyPiqM"
      },
      "source": [
        "## Routing problem"
      ]
    },
    {
      "cell_type": "code",
      "metadata": {
        "id": "ezC72SPNPoJ_"
      },
      "source": [
        "class RoutingProblem:\n",
        " \n",
        "  def __init__(self, s_start, goal, G):\n",
        "    self.s_start = s_start\n",
        "    self.goal = goal\n",
        "    self.G = G  \n",
        "  \n",
        "  def actions(self, s):\n",
        "    return self.G[s].keys() if s in G else ()\n",
        "  \n",
        "  def succ(self, s, a):\n",
        "    if a in self.G[s]:\n",
        "      return a\n",
        "    raise ValueError(f'No route from {s} to {a}')\n",
        "\n",
        "  def is_goal(self, s):\n",
        "    return s==self.goal\n",
        "\n",
        "  def step_cost(self, s, a):\n",
        "    return self.G[s][a]\n",
        "\n",
        "  def state_str(self, s):\n",
        "    return s\n",
        "  \n",
        "  def __repr__(self):\n",
        "    return {'s_start':self.s_start, 'goal':self.goal, graph:'self.G'}"
      ],
      "execution_count": null,
      "outputs": []
    },
    {
      "cell_type": "code",
      "metadata": {
        "id": "YDkbmipqSsbT",
        "colab": {
          "base_uri": "https://localhost:8080/",
          "height": 748
        },
        "outputId": "d0d7fa84-9386-47d7-ea43-b5bf3e4bfb3f"
      },
      "source": [
        "routes = \"\"\"\\\n",
        "Ashkelon,Ashdod,35\n",
        "Ashdod,Gan-Yavne,1\n",
        "Ashdod,Yavne,11\n",
        "Yavne,Gan-Yavne,13\n",
        "Yavne,Tel-Aviv,25\n",
        "Aluf Sade Interchange,Yavne,26\n",
        "Yavne,Rehovot,6\n",
        "Tel-Aviv,Aluf Sade Interchange,5\n",
        "Rehovot,Aluf Sade Interchange,27\n",
        "Aluf Sade Interchange,Bar-Ilan University,1\n",
        "Bar-Ilan University,Kiryat Ono,4\n",
        "\"\"\"\n",
        "G = load_routes(routes, symmetric=True)\n",
        "print(json.dumps(G, indent=4, sort_keys=True))\n",
        "print(f\"\"\"The cost of traveling from Ashdod to Ashkelon is: {G['Ashdod']['Ashkelon']}\"\"\")"
      ],
      "execution_count": null,
      "outputs": [
        {
          "output_type": "stream",
          "text": [
            "{\n",
            "    \"Aluf Sade Interchange\": {\n",
            "        \"Bar-Ilan University\": 1,\n",
            "        \"Rehovot\": 27,\n",
            "        \"Tel-Aviv\": 5,\n",
            "        \"Yavne\": 26\n",
            "    },\n",
            "    \"Ashdod\": {\n",
            "        \"Ashkelon\": 35,\n",
            "        \"Gan-Yavne\": 1,\n",
            "        \"Yavne\": 11\n",
            "    },\n",
            "    \"Ashkelon\": {\n",
            "        \"Ashdod\": 35\n",
            "    },\n",
            "    \"Bar-Ilan University\": {\n",
            "        \"Aluf Sade Interchange\": 1,\n",
            "        \"Kiryat Ono\": 4\n",
            "    },\n",
            "    \"Gan-Yavne\": {\n",
            "        \"Ashdod\": 1,\n",
            "        \"Yavne\": 13\n",
            "    },\n",
            "    \"Kiryat Ono\": {\n",
            "        \"Bar-Ilan University\": 4\n",
            "    },\n",
            "    \"Rehovot\": {\n",
            "        \"Aluf Sade Interchange\": 27,\n",
            "        \"Yavne\": 6\n",
            "    },\n",
            "    \"Tel-Aviv\": {\n",
            "        \"Aluf Sade Interchange\": 5,\n",
            "        \"Yavne\": 25\n",
            "    },\n",
            "    \"Yavne\": {\n",
            "        \"Aluf Sade Interchange\": 26,\n",
            "        \"Ashdod\": 11,\n",
            "        \"Gan-Yavne\": 13,\n",
            "        \"Rehovot\": 6,\n",
            "        \"Tel-Aviv\": 25\n",
            "    }\n",
            "}\n",
            "The cost of traveling from Ashdod to Ashkelon is: 35\n"
          ],
          "name": "stdout"
        }
      ]
    },
    {
      "cell_type": "code",
      "metadata": {
        "id": "z3vflQhESh_1",
        "colab": {
          "base_uri": "https://localhost:8080/",
          "height": 340
        },
        "outputId": "3c48962f-4319-4788-95a7-0af9a71bb8a6"
      },
      "source": [
        "s_start, goal = 'Yavne', 'Bar-Ilan University'\n",
        "\n",
        "rp = RoutingProblem(s_start, goal, G)\n",
        "print(\"Initial State:\")\n",
        "print(rp.state_str(rp.s_start))\n",
        "print(f'is_goal? {rp.is_goal(s_start)}')\n",
        "print(\"Applicable actions for initial state:\")\n",
        "print(rp.actions(s_start))\n",
        "\n",
        "\n",
        "print(\"\\nGenerating a new state by moving to Tel-Aviv\")\n",
        "s = rp.succ(s_start, 'Tel-Aviv')\n",
        "print(rp.state_str(s))\n",
        "print(f'is_goal? {rp.is_goal(s)}')\n",
        "print(\"Applicable actions for the new state:\")\n",
        "print(rp.actions(s))\n",
        "\n",
        "\n",
        "print(\"\\nGenerating a new state by moving to Aluf-Sade Interchange\")\n",
        "s = rp.succ(s, 'Aluf Sade Interchange')\n",
        "print(rp.state_str(s))\n",
        "print(f'is_goal? {rp.is_goal(s)}')\n",
        "\n",
        "print(\"\\nGenerating a new state by moving to Bar-Ilan University\")\n",
        "s = rp.succ(s, 'Bar-Ilan University')\n",
        "print(rp.state_str(s))\n",
        "print(f'is_goal? {rp.is_goal(s)}')\n"
      ],
      "execution_count": null,
      "outputs": [
        {
          "output_type": "stream",
          "text": [
            "Initial State:\n",
            "Yavne\n",
            "is_goal? False\n",
            "Applicable actions for initial state:\n",
            "dict_keys(['Ashdod', 'Gan-Yavne', 'Tel-Aviv', 'Aluf Sade Interchange', 'Rehovot'])\n",
            "\n",
            "Generating a new state by moving to Tel-Aviv\n",
            "Tel-Aviv\n",
            "is_goal? False\n",
            "Applicable actions for the new state:\n",
            "dict_keys(['Yavne', 'Aluf Sade Interchange'])\n",
            "\n",
            "Generating a new state by moving to Aluf-Sade Interchange\n",
            "Aluf Sade Interchange\n",
            "is_goal? False\n",
            "\n",
            "Generating a new state by moving to Bar-Ilan University\n",
            "Bar-Ilan University\n",
            "is_goal? True\n"
          ],
          "name": "stdout"
        }
      ]
    },
    {
      "cell_type": "code",
      "metadata": {
        "id": "xWOW8M2pWAn2",
        "colab": {
          "base_uri": "https://localhost:8080/",
          "height": 170
        },
        "outputId": "dafe7263-0d15-454d-a8e4-e3ffcd3502e5"
      },
      "source": [
        "routes2 = \"\"\"\\\n",
        "S,A,5\n",
        "A,B,4\n",
        "B,C,4\n",
        "S,D,4\n",
        "D,E,3\n",
        "E,F,4\n",
        "F,G,3\n",
        "A,E,1\n",
        "E,B,5\n",
        "\"\"\"\n",
        "G2 = load_routes(routes2, symmetric=True)\n",
        "print(f\"\"\"The cost of traveling from A to B is: {G2['A']['B']}\"\"\")\n",
        "G2"
      ],
      "execution_count": null,
      "outputs": [
        {
          "output_type": "stream",
          "text": [
            "The cost of traveling from A to B is: 4\n"
          ],
          "name": "stdout"
        },
        {
          "output_type": "execute_result",
          "data": {
            "text/plain": [
              "{'A': {'B': 4, 'E': 1, 'S': 5},\n",
              " 'B': {'A': 4, 'C': 4, 'E': 5},\n",
              " 'C': {'B': 4},\n",
              " 'D': {'E': 3, 'S': 4},\n",
              " 'E': {'A': 1, 'B': 5, 'D': 3, 'F': 4},\n",
              " 'F': {'E': 4, 'G': 3},\n",
              " 'G': {'F': 3},\n",
              " 'S': {'A': 5, 'D': 4}}"
            ]
          },
          "metadata": {
            "tags": []
          },
          "execution_count": 9
        }
      ]
    },
    {
      "cell_type": "markdown",
      "metadata": {
        "id": "lC4bwaLtbev9"
      },
      "source": [
        "# Definition of Node in a search graph"
      ]
    },
    {
      "cell_type": "code",
      "metadata": {
        "id": "wng7osQBSqlk"
      },
      "source": [
        "@total_ordering\n",
        "class Node:\n",
        "    def __init__(self, state, parent=None, action=None, path_cost=0):\n",
        "      self.state = state\n",
        "      self.parent = parent\n",
        "      self.action = action\n",
        "      self.path_cost = path_cost\n",
        "      self.depth = 0\n",
        "      if parent:\n",
        "        self.depth = parent.depth + 1\n",
        "\n",
        "    def expand(self, problem):\n",
        "      return ordered_set([self.child_node(problem, action)\n",
        "        for action in problem.actions(self.state)])\n",
        "\n",
        "    def child_node(self, problem, action):\n",
        "      next_state = problem.succ(self.state, action)\n",
        "      next_node = Node(next_state, self, action,\n",
        "                  self.path_cost+problem.step_cost(self.state, action))\n",
        "      return next_node\n",
        "    \n",
        "    def solution(self):\n",
        "      return [node.action for node in self.path()[1:]]\n",
        "\n",
        "    def path(self):\n",
        "      node, path_back = self, []\n",
        "      while node:\n",
        "          path_back.append(node)\n",
        "          node = node.parent\n",
        "      return list(reversed(path_back))\n",
        "    def __repr__(self):\n",
        "      return f\"<{self.state}>\"\n",
        "\n",
        "    def __lt__(self, node):\n",
        "      return self.state < node.state\n",
        "    \n",
        "    def __eq__(self, other):\n",
        "      return isinstance(other, Node) and self.state == other.state\n",
        "\n",
        "    def __ne__(self, other):\n",
        "      return not (self == other)\n",
        "\n",
        "    def __hash__(self):\n",
        "        return hash(self.state)"
      ],
      "execution_count": null,
      "outputs": []
    },
    {
      "cell_type": "markdown",
      "metadata": {
        "id": "QeQWsnFfby-J"
      },
      "source": [
        "# Uninformed Search algorithms"
      ]
    },
    {
      "cell_type": "markdown",
      "metadata": {
        "id": "jjBD3mKiorzb"
      },
      "source": [
        "## Implementation"
      ]
    },
    {
      "cell_type": "markdown",
      "metadata": {
        "id": "7AyDPdlFjDAh"
      },
      "source": [
        "### BFS"
      ]
    },
    {
      "cell_type": "code",
      "metadata": {
        "id": "D8wWG7IfjI-X"
      },
      "source": [
        "def breadth_first_tree_search(problem):\n",
        "  frontier = deque([Node(problem.s_start)])  # FIFO queue\n",
        "  log = []\n",
        "  while frontier:\n",
        "    node = frontier.popleft()\n",
        "    if debug:\n",
        "      log.append((problem.state_str(node.state),node.solution(),len(frontier),problem.actions(node.state),problem.is_goal(node.state)))\n",
        "    if problem.is_goal(node.state):\n",
        "      return node.solution(), log\n",
        "    frontier.extend(node.expand(problem))\n",
        "  return None, log\n",
        "\n",
        "def breadth_first_graph_search(problem):\n",
        "  frontier = deque([Node(problem.s_start)])  # FIFO queue\n",
        "  closed_list = set()\n",
        "  log = []\n",
        "  while frontier:\n",
        "    node = frontier.popleft()\n",
        "    if debug:\n",
        "      log.append((problem.state_str(node.state),node.solution(),len(frontier),problem.actions(node.state),problem.is_goal(node.state)))\n",
        "    if problem.is_goal(node.state):\n",
        "        return node.solution(), log\n",
        "    closed_list.add(node.state)\n",
        "    for child in node.expand(problem):\n",
        "        if child.state not in closed_list and child not in frontier:\n",
        "            frontier.append(child)\n",
        "  return None, log"
      ],
      "execution_count": null,
      "outputs": []
    },
    {
      "cell_type": "markdown",
      "metadata": {
        "id": "SZH3IoewjP_O"
      },
      "source": [
        "### DFS"
      ]
    },
    {
      "cell_type": "code",
      "metadata": {
        "id": "C0ajyBINjSDe"
      },
      "source": [
        "def depth_first_tree_search(problem):\n",
        "    frontier = [(Node(problem.s_start))]  # Stack\n",
        "    log = []\n",
        "    while frontier:\n",
        "        node = frontier.pop()\n",
        "        if debug:\n",
        "          log.append((problem.state_str(node.state),node.solution(),len(frontier),problem.actions(node.state),problem.is_goal(node.state)))\n",
        "        if problem.is_goal(node.state) or (debug and len(log)>100):\n",
        "          return node.solution(), log\n",
        "        frontier.extend(node.expand(problem))\n",
        "    return None, log\n",
        "\n",
        "def depth_first_graph_search(problem):\n",
        "    frontier = [(Node(problem.s_start))]  # Stack\n",
        "    closed_list = set()\n",
        "    log = []\n",
        "    while frontier:\n",
        "        node = frontier.pop()\n",
        "        if debug:\n",
        "          log.append((problem.state_str(node.state),node.solution(),len(frontier),problem.actions(node.state),problem.is_goal(node.state)))\n",
        "        if problem.is_goal(node.state) or (debug and len(log)>100):\n",
        "          return node.solution(), log  \n",
        "        closed_list.add(node.state)\n",
        "        frontier.extend(child for child in node.expand(problem)\n",
        "                        if child.state not in closed_list and\n",
        "                        child not in frontier)\n",
        "    return None, log\n",
        "\n",
        "def depth_limited_search(problem, limit=5):\n",
        "    frontier = [(Node(problem.s_start))]  # Stack\n",
        "    log = []\n",
        "    while frontier:\n",
        "        node = frontier.pop()\n",
        "        if debug:\n",
        "          log.append((problem.state_str(node.state),node.solution(),len(frontier),problem.actions(node.state),problem.is_goal(node.state)))\n",
        "        if problem.is_goal(node.state):\n",
        "          return node.solution(), log\n",
        "        if node.depth<limit:\n",
        "          frontier.extend(node.expand(problem))\n",
        "    return None, log \n",
        "\n",
        "def iterative_deepening_search(problem):\n",
        "  iterative_log = []\n",
        "  for depth in range(1, sys.maxsize):\n",
        "    result, log = depth_limited_search(problem, depth)\n",
        "    iterative_log.extend(log)\n",
        "    if result:\n",
        "      return result, iterative_log\n",
        "  return None, iterative_deepening_search"
      ],
      "execution_count": null,
      "outputs": []
    },
    {
      "cell_type": "markdown",
      "metadata": {
        "id": "0rLgJ-PSjYig"
      },
      "source": [
        "### Uniform Cost search"
      ]
    },
    {
      "cell_type": "code",
      "metadata": {
        "id": "BcTGi7_Bsgwf"
      },
      "source": [
        "\n",
        "def best_first_graph_search(problem, f):\n",
        "  node = Node(problem.s_start)\n",
        "  frontier = PriorityQueue(f) #Priority Queue\n",
        "  frontier.append(node)\n",
        "  log = []\n",
        "  closed_list = set()\n",
        "  while frontier:\n",
        "    if len(closed_list)%1000==0:\n",
        "      print(f'size of closed list:{len(closed_list)}')\n",
        "    node = frontier.pop()\n",
        "    if debug:\n",
        "      log.append((problem.state_str(node.state), node.solution(), node.path_cost,f(node),str(frontier), problem.actions(node.state), problem.is_goal(node.state)))    \n",
        "    if problem.is_goal(node.state):\n",
        "      return node.solution(), log\n",
        "    closed_list.add(node.state)\n",
        "    for child in node.expand(problem):\n",
        "      if child.state not in closed_list and child not in frontier:\n",
        "        frontier.append(child)\n",
        "      elif child in frontier and f(child) < frontier[child]:\n",
        "        del frontier[child]\n",
        "        frontier.append(child)\n",
        "  return None, log\n",
        "\n",
        "#f = g: \n",
        "def uniform_cost_search(problem):\n",
        "  def g(node):\n",
        "    return node.path_cost\n",
        "  return best_first_graph_search(problem, f=g)  "
      ],
      "execution_count": null,
      "outputs": []
    },
    {
      "cell_type": "markdown",
      "metadata": {
        "id": "7Zp5wS10qG1V"
      },
      "source": [
        "## Playing around"
      ]
    },
    {
      "cell_type": "code",
      "metadata": {
        "id": "tdJFzw8Yq5jD"
      },
      "source": [
        "s_start = (\n",
        "    3, 1, 2,\n",
        "    4, 7, 5,\n",
        "    6, 0, 8\n",
        ")\n",
        "\n",
        "easy_s_start = (\n",
        "    1, 2, 0,\n",
        "    3, 4, 5,\n",
        "    6, 7, 8\n",
        ")\n",
        "tile_puzzle_problem = TilePuzzleProblem(s_start, 3)\n",
        "tile_puzzle_easy_problem = TilePuzzleProblem(easy_s_start, 3)\n",
        "\n",
        "routing_problem = RoutingProblem('Yavne','Bar-Ilan University',G)"
      ],
      "execution_count": null,
      "outputs": []
    },
    {
      "cell_type": "markdown",
      "metadata": {
        "id": "44QhRsbtqUmG"
      },
      "source": [
        "### BFS"
      ]
    },
    {
      "cell_type": "code",
      "metadata": {
        "id": "XEGk3e3DVbOt",
        "colab": {
          "base_uri": "https://localhost:8080/",
          "height": 976
        },
        "outputId": "e8f4565e-ff66-4705-b627-4e6eb956f259"
      },
      "source": [
        "#solution, log = breadth_first_tree_search(tile_puzzle_problem)\n",
        "solution, log = breadth_first_graph_search(tile_puzzle_problem)\n",
        "\n",
        "#solution, log = breadth_first_tree_search(routing_problem)\n",
        "#solution, log = breadth_first_graph_search(routing_problem)\n",
        "print(f'Solution: {solution}')\n",
        "format_search_log(log)"
      ],
      "execution_count": null,
      "outputs": [
        {
          "output_type": "stream",
          "text": [
            "Solution: ['up', 'left', 'up']\n"
          ],
          "name": "stdout"
        },
        {
          "output_type": "display_data",
          "data": {
            "text/html": [
              "<table border=\"1\" class=\"dataframe\">\n",
              "  <thead>\n",
              "    <tr style=\"text-align: right;\">\n",
              "      <th></th>\n",
              "      <th>node to expand</th>\n",
              "      <th>path</th>\n",
              "      <th>left in frontier</th>\n",
              "      <th>valid actions</th>\n",
              "      <th>is_goal</th>\n",
              "    </tr>\n",
              "  </thead>\n",
              "  <tbody>\n",
              "    <tr>\n",
              "      <th>0</th>\n",
              "      <td>(3, 1, 2)<br>(4, 7, 5)<br>(6, 0, 8)</td>\n",
              "      <td>[]</td>\n",
              "      <td>0</td>\n",
              "      <td>[left, right, up]</td>\n",
              "      <td>False</td>\n",
              "    </tr>\n",
              "    <tr>\n",
              "      <th>1</th>\n",
              "      <td>(3, 1, 2)<br>(4, 7, 5)<br>(0, 6, 8)</td>\n",
              "      <td>[left]</td>\n",
              "      <td>2</td>\n",
              "      <td>[right, up]</td>\n",
              "      <td>False</td>\n",
              "    </tr>\n",
              "    <tr>\n",
              "      <th>2</th>\n",
              "      <td>(3, 1, 2)<br>(4, 7, 5)<br>(6, 8, 0)</td>\n",
              "      <td>[right]</td>\n",
              "      <td>2</td>\n",
              "      <td>[left, up]</td>\n",
              "      <td>False</td>\n",
              "    </tr>\n",
              "    <tr>\n",
              "      <th>3</th>\n",
              "      <td>(3, 1, 2)<br>(4, 0, 5)<br>(6, 7, 8)</td>\n",
              "      <td>[up]</td>\n",
              "      <td>2</td>\n",
              "      <td>[left, right, up, down]</td>\n",
              "      <td>False</td>\n",
              "    </tr>\n",
              "    <tr>\n",
              "      <th>4</th>\n",
              "      <td>(3, 1, 2)<br>(0, 7, 5)<br>(4, 6, 8)</td>\n",
              "      <td>[left, up]</td>\n",
              "      <td>4</td>\n",
              "      <td>[right, up, down]</td>\n",
              "      <td>False</td>\n",
              "    </tr>\n",
              "    <tr>\n",
              "      <th>5</th>\n",
              "      <td>(3, 1, 2)<br>(4, 7, 0)<br>(6, 8, 5)</td>\n",
              "      <td>[right, up]</td>\n",
              "      <td>5</td>\n",
              "      <td>[left, up, down]</td>\n",
              "      <td>False</td>\n",
              "    </tr>\n",
              "    <tr>\n",
              "      <th>6</th>\n",
              "      <td>(3, 1, 2)<br>(0, 4, 5)<br>(6, 7, 8)</td>\n",
              "      <td>[up, left]</td>\n",
              "      <td>6</td>\n",
              "      <td>[right, up, down]</td>\n",
              "      <td>False</td>\n",
              "    </tr>\n",
              "    <tr>\n",
              "      <th>7</th>\n",
              "      <td>(3, 1, 2)<br>(4, 5, 0)<br>(6, 7, 8)</td>\n",
              "      <td>[up, right]</td>\n",
              "      <td>7</td>\n",
              "      <td>[left, up, down]</td>\n",
              "      <td>False</td>\n",
              "    </tr>\n",
              "    <tr>\n",
              "      <th>8</th>\n",
              "      <td>(3, 0, 2)<br>(4, 1, 5)<br>(6, 7, 8)</td>\n",
              "      <td>[up, up]</td>\n",
              "      <td>8</td>\n",
              "      <td>[left, right, down]</td>\n",
              "      <td>False</td>\n",
              "    </tr>\n",
              "    <tr>\n",
              "      <th>9</th>\n",
              "      <td>(3, 1, 2)<br>(7, 0, 5)<br>(4, 6, 8)</td>\n",
              "      <td>[left, up, right]</td>\n",
              "      <td>9</td>\n",
              "      <td>[left, right, up, down]</td>\n",
              "      <td>False</td>\n",
              "    </tr>\n",
              "    <tr>\n",
              "      <th>10</th>\n",
              "      <td>(0, 1, 2)<br>(3, 7, 5)<br>(4, 6, 8)</td>\n",
              "      <td>[left, up, up]</td>\n",
              "      <td>11</td>\n",
              "      <td>[right, down]</td>\n",
              "      <td>False</td>\n",
              "    </tr>\n",
              "    <tr>\n",
              "      <th>11</th>\n",
              "      <td>(3, 1, 2)<br>(4, 0, 7)<br>(6, 8, 5)</td>\n",
              "      <td>[right, up, left]</td>\n",
              "      <td>11</td>\n",
              "      <td>[left, right, up, down]</td>\n",
              "      <td>False</td>\n",
              "    </tr>\n",
              "    <tr>\n",
              "      <th>12</th>\n",
              "      <td>(3, 1, 0)<br>(4, 7, 2)<br>(6, 8, 5)</td>\n",
              "      <td>[right, up, up]</td>\n",
              "      <td>13</td>\n",
              "      <td>[left, down]</td>\n",
              "      <td>False</td>\n",
              "    </tr>\n",
              "    <tr>\n",
              "      <th>13</th>\n",
              "      <td>(0, 1, 2)<br>(3, 4, 5)<br>(6, 7, 8)</td>\n",
              "      <td>[up, left, up]</td>\n",
              "      <td>13</td>\n",
              "      <td>[right, down]</td>\n",
              "      <td>True</td>\n",
              "    </tr>\n",
              "  </tbody>\n",
              "</table>"
            ],
            "text/plain": [
              "<IPython.core.display.HTML object>"
            ]
          },
          "metadata": {
            "tags": []
          }
        }
      ]
    },
    {
      "cell_type": "code",
      "metadata": {
        "id": "hMd9zQRuJBqK",
        "colab": {
          "base_uri": "https://localhost:8080/",
          "height": 736
        },
        "outputId": "1c47643e-5130-4060-fb03-4d9ffda780cb"
      },
      "source": [
        "s_start = (\n",
        "    3, 1, 2,\n",
        "    0, 4, 5,\n",
        "    6, 7, 8\n",
        ")\n",
        "problem = TilePuzzleProblem(s_start, 3)\n",
        "solution, log = depth_first_graph_search(problem)\n",
        "print(f'Solution: {solution}')\n",
        "format_search_log(log, limit=10)"
      ],
      "execution_count": null,
      "outputs": [
        {
          "output_type": "stream",
          "text": [
            "Solution: ['down', 'right', 'up', 'up', 'right', 'down', 'down', 'left', 'up', 'up', 'right', 'down', 'down', 'left', 'up', 'up', 'right', 'down', 'down', 'left', 'up', 'up', 'right', 'down', 'down', 'left', 'up', 'up', 'right', 'down', 'left', 'down', 'right', 'up', 'up', 'left', 'down', 'down', 'right', 'up', 'up', 'left', 'down', 'down', 'left', 'up', 'up', 'right', 'down', 'down', 'right', 'up', 'up', 'left', 'down', 'down', 'right', 'up', 'up', 'left', 'down', 'down', 'right', 'up', 'up', 'left', 'down', 'down', 'right', 'up', 'up', 'left', 'down', 'down', 'right', 'up', 'left', 'down', 'right', 'up', 'up', 'left', 'down', 'down', 'right', 'up', 'up', 'left', 'down', 'down', 'left', 'up', 'up', 'right', 'down', 'down', 'right', 'up']\n"
          ],
          "name": "stdout"
        },
        {
          "output_type": "display_data",
          "data": {
            "text/html": [
              "<table border=\"1\" class=\"dataframe\">\n",
              "  <thead>\n",
              "    <tr style=\"text-align: right;\">\n",
              "      <th></th>\n",
              "      <th>node to expand</th>\n",
              "      <th>path</th>\n",
              "      <th>left in frontier</th>\n",
              "      <th>valid actions</th>\n",
              "      <th>is_goal</th>\n",
              "    </tr>\n",
              "  </thead>\n",
              "  <tbody>\n",
              "    <tr>\n",
              "      <th>0</th>\n",
              "      <td>(3, 1, 2)<br>(0, 4, 5)<br>(6, 7, 8)</td>\n",
              "      <td>[]</td>\n",
              "      <td>0</td>\n",
              "      <td>[right, up, down]</td>\n",
              "      <td>False</td>\n",
              "    </tr>\n",
              "    <tr>\n",
              "      <th>1</th>\n",
              "      <td>(3, 1, 2)<br>(6, 4, 5)<br>(0, 7, 8)</td>\n",
              "      <td>[down]</td>\n",
              "      <td>2</td>\n",
              "      <td>[right, up]</td>\n",
              "      <td>False</td>\n",
              "    </tr>\n",
              "    <tr>\n",
              "      <th>2</th>\n",
              "      <td>(3, 1, 2)<br>(6, 4, 5)<br>(7, 0, 8)</td>\n",
              "      <td>[down, right]</td>\n",
              "      <td>2</td>\n",
              "      <td>[left, right, up]</td>\n",
              "      <td>False</td>\n",
              "    </tr>\n",
              "    <tr>\n",
              "      <th>3</th>\n",
              "      <td>(3, 1, 2)<br>(6, 0, 5)<br>(7, 4, 8)</td>\n",
              "      <td>[down, right, up]</td>\n",
              "      <td>3</td>\n",
              "      <td>[left, right, up, down]</td>\n",
              "      <td>False</td>\n",
              "    </tr>\n",
              "    <tr>\n",
              "      <th>4</th>\n",
              "      <td>(3, 0, 2)<br>(6, 1, 5)<br>(7, 4, 8)</td>\n",
              "      <td>[down, right, up, up]</td>\n",
              "      <td>5</td>\n",
              "      <td>[left, right, down]</td>\n",
              "      <td>False</td>\n",
              "    </tr>\n",
              "    <tr>\n",
              "      <th>5</th>\n",
              "      <td>(3, 2, 0)<br>(6, 1, 5)<br>(7, 4, 8)</td>\n",
              "      <td>[down, right, up, up, right]</td>\n",
              "      <td>6</td>\n",
              "      <td>[left, down]</td>\n",
              "      <td>False</td>\n",
              "    </tr>\n",
              "    <tr>\n",
              "      <th>6</th>\n",
              "      <td>(3, 2, 5)<br>(6, 1, 0)<br>(7, 4, 8)</td>\n",
              "      <td>[down, right, up, up, right, down]</td>\n",
              "      <td>6</td>\n",
              "      <td>[left, up, down]</td>\n",
              "      <td>False</td>\n",
              "    </tr>\n",
              "    <tr>\n",
              "      <th>7</th>\n",
              "      <td>(3, 2, 5)<br>(6, 1, 8)<br>(7, 4, 0)</td>\n",
              "      <td>[down, right, up, up, right, down, down]</td>\n",
              "      <td>7</td>\n",
              "      <td>[left, up]</td>\n",
              "      <td>False</td>\n",
              "    </tr>\n",
              "    <tr>\n",
              "      <th>8</th>\n",
              "      <td>(3, 2, 5)<br>(6, 1, 8)<br>(7, 0, 4)</td>\n",
              "      <td>[down, right, up, up, right, down, down, left]</td>\n",
              "      <td>7</td>\n",
              "      <td>[left, right, up]</td>\n",
              "      <td>False</td>\n",
              "    </tr>\n",
              "    <tr>\n",
              "      <th>9</th>\n",
              "      <td>(3, 2, 5)<br>(6, 0, 8)<br>(7, 1, 4)</td>\n",
              "      <td>[down, right, up, up, right, down, down, left,...</td>\n",
              "      <td>8</td>\n",
              "      <td>[left, right, up, down]</td>\n",
              "      <td>False</td>\n",
              "    </tr>\n",
              "  </tbody>\n",
              "</table>"
            ],
            "text/plain": [
              "<IPython.core.display.HTML object>"
            ]
          },
          "metadata": {
            "tags": []
          }
        }
      ]
    },
    {
      "cell_type": "markdown",
      "metadata": {
        "id": "4LnQ-RZsssds"
      },
      "source": [
        "### DFS"
      ]
    },
    {
      "cell_type": "code",
      "metadata": {
        "id": "xYULNrwksxnV",
        "colab": {
          "base_uri": "https://localhost:8080/",
          "height": 736
        },
        "outputId": "46ae43b2-9144-41c1-9b0d-d8a0a14264eb"
      },
      "source": [
        "#solution, log = depth_first_tree_search(tile_puzzle_problem)\n",
        "solution, log = depth_first_graph_search(tile_puzzle_problem)\n",
        "\n",
        "#solution, log = depth_first_tree_search(routing_problem)\n",
        "#solution, log = depth_first_graph_search(routing_problem)\n",
        "print(f'Solution: {solution}')\n",
        "format_search_log(log, limit=10)"
      ],
      "execution_count": null,
      "outputs": [
        {
          "output_type": "stream",
          "text": [
            "Solution: ['up', 'up', 'right', 'down', 'down', 'left', 'up', 'up', 'right', 'down', 'down', 'left', 'up', 'up', 'right', 'down', 'down', 'left', 'up', 'up', 'right', 'down', 'down', 'left', 'up', 'up', 'right', 'down', 'left', 'down', 'right', 'up', 'up', 'left', 'down', 'down', 'right', 'up', 'up', 'left', 'down', 'down', 'left', 'up', 'up', 'right', 'down', 'down', 'right', 'up', 'up', 'left', 'down', 'down', 'right', 'up', 'up', 'left', 'down', 'down', 'right', 'up', 'up', 'left', 'down', 'down', 'right', 'up', 'up', 'left', 'down', 'down', 'right', 'up', 'left', 'down', 'right', 'up', 'up', 'left', 'down', 'down', 'right', 'up', 'up', 'left', 'down', 'down', 'left', 'up', 'up', 'right', 'down', 'down', 'right', 'up', 'up', 'left']\n"
          ],
          "name": "stdout"
        },
        {
          "output_type": "display_data",
          "data": {
            "text/html": [
              "<table border=\"1\" class=\"dataframe\">\n",
              "  <thead>\n",
              "    <tr style=\"text-align: right;\">\n",
              "      <th></th>\n",
              "      <th>node to expand</th>\n",
              "      <th>path</th>\n",
              "      <th>left in frontier</th>\n",
              "      <th>valid actions</th>\n",
              "      <th>is_goal</th>\n",
              "    </tr>\n",
              "  </thead>\n",
              "  <tbody>\n",
              "    <tr>\n",
              "      <th>0</th>\n",
              "      <td>(3, 1, 2)<br>(4, 7, 5)<br>(6, 0, 8)</td>\n",
              "      <td>[]</td>\n",
              "      <td>0</td>\n",
              "      <td>[left, right, up]</td>\n",
              "      <td>False</td>\n",
              "    </tr>\n",
              "    <tr>\n",
              "      <th>1</th>\n",
              "      <td>(3, 1, 2)<br>(4, 0, 5)<br>(6, 7, 8)</td>\n",
              "      <td>[up]</td>\n",
              "      <td>2</td>\n",
              "      <td>[left, right, up, down]</td>\n",
              "      <td>False</td>\n",
              "    </tr>\n",
              "    <tr>\n",
              "      <th>2</th>\n",
              "      <td>(3, 0, 2)<br>(4, 1, 5)<br>(6, 7, 8)</td>\n",
              "      <td>[up, up]</td>\n",
              "      <td>4</td>\n",
              "      <td>[left, right, down]</td>\n",
              "      <td>False</td>\n",
              "    </tr>\n",
              "    <tr>\n",
              "      <th>3</th>\n",
              "      <td>(3, 2, 0)<br>(4, 1, 5)<br>(6, 7, 8)</td>\n",
              "      <td>[up, up, right]</td>\n",
              "      <td>5</td>\n",
              "      <td>[left, down]</td>\n",
              "      <td>False</td>\n",
              "    </tr>\n",
              "    <tr>\n",
              "      <th>4</th>\n",
              "      <td>(3, 2, 5)<br>(4, 1, 0)<br>(6, 7, 8)</td>\n",
              "      <td>[up, up, right, down]</td>\n",
              "      <td>5</td>\n",
              "      <td>[left, up, down]</td>\n",
              "      <td>False</td>\n",
              "    </tr>\n",
              "    <tr>\n",
              "      <th>5</th>\n",
              "      <td>(3, 2, 5)<br>(4, 1, 8)<br>(6, 7, 0)</td>\n",
              "      <td>[up, up, right, down, down]</td>\n",
              "      <td>6</td>\n",
              "      <td>[left, up]</td>\n",
              "      <td>False</td>\n",
              "    </tr>\n",
              "    <tr>\n",
              "      <th>6</th>\n",
              "      <td>(3, 2, 5)<br>(4, 1, 8)<br>(6, 0, 7)</td>\n",
              "      <td>[up, up, right, down, down, left]</td>\n",
              "      <td>6</td>\n",
              "      <td>[left, right, up]</td>\n",
              "      <td>False</td>\n",
              "    </tr>\n",
              "    <tr>\n",
              "      <th>7</th>\n",
              "      <td>(3, 2, 5)<br>(4, 0, 8)<br>(6, 1, 7)</td>\n",
              "      <td>[up, up, right, down, down, left, up]</td>\n",
              "      <td>7</td>\n",
              "      <td>[left, right, up, down]</td>\n",
              "      <td>False</td>\n",
              "    </tr>\n",
              "    <tr>\n",
              "      <th>8</th>\n",
              "      <td>(3, 0, 5)<br>(4, 2, 8)<br>(6, 1, 7)</td>\n",
              "      <td>[up, up, right, down, down, left, up, up]</td>\n",
              "      <td>9</td>\n",
              "      <td>[left, right, down]</td>\n",
              "      <td>False</td>\n",
              "    </tr>\n",
              "    <tr>\n",
              "      <th>9</th>\n",
              "      <td>(3, 5, 0)<br>(4, 2, 8)<br>(6, 1, 7)</td>\n",
              "      <td>[up, up, right, down, down, left, up, up, right]</td>\n",
              "      <td>10</td>\n",
              "      <td>[left, down]</td>\n",
              "      <td>False</td>\n",
              "    </tr>\n",
              "  </tbody>\n",
              "</table>"
            ],
            "text/plain": [
              "<IPython.core.display.HTML object>"
            ]
          },
          "metadata": {
            "tags": []
          }
        }
      ]
    },
    {
      "cell_type": "markdown",
      "metadata": {
        "id": "0I-Qjqpcvrbd"
      },
      "source": [
        "### Uniform Cost search"
      ]
    },
    {
      "cell_type": "code",
      "metadata": {
        "id": "5Q8zSWRAvoxc",
        "colab": {
          "base_uri": "https://localhost:8080/",
          "height": 300
        },
        "outputId": "8cb3a499-0672-422f-d280-7ec5b64d0d92"
      },
      "source": [
        "#solution, log = uniform_cost_search(tile_puzzle_problem)\n",
        "solution, log = uniform_cost_search(routing_problem)\n",
        "print(f'Solution: {solution}')\n",
        "format_search_with_costs_log(log)"
      ],
      "execution_count": null,
      "outputs": [
        {
          "output_type": "stream",
          "text": [
            "size of closed list:0\n",
            "Solution: ['Aluf Sade Interchange', 'Bar-Ilan University']\n"
          ],
          "name": "stdout"
        },
        {
          "output_type": "display_data",
          "data": {
            "text/html": [
              "<table border=\"1\" class=\"dataframe\">\n",
              "  <thead>\n",
              "    <tr style=\"text-align: right;\">\n",
              "      <th></th>\n",
              "      <th>node to expand</th>\n",
              "      <th>path</th>\n",
              "      <th>g</th>\n",
              "      <th>f</th>\n",
              "      <th>left in frontier</th>\n",
              "      <th>valid actions</th>\n",
              "      <th>is_goal</th>\n",
              "    </tr>\n",
              "  </thead>\n",
              "  <tbody>\n",
              "    <tr>\n",
              "      <th>0</th>\n",
              "      <td>Yavne</td>\n",
              "      <td>[]</td>\n",
              "      <td>0</td>\n",
              "      <td>0</td>\n",
              "      <td>[]</td>\n",
              "      <td>(Ashdod, Gan-Yavne, Tel-Aviv, Aluf Sade Interc...</td>\n",
              "      <td>False</td>\n",
              "    </tr>\n",
              "    <tr>\n",
              "      <th>1</th>\n",
              "      <td>Rehovot</td>\n",
              "      <td>[Rehovot]</td>\n",
              "      <td>6</td>\n",
              "      <td>6</td>\n",
              "      <td>[(11, &lt;Ashdod&gt;), (13, &lt;Gan-Yavne&gt;), (25, &lt;Tel-...</td>\n",
              "      <td>(Yavne, Aluf Sade Interchange)</td>\n",
              "      <td>False</td>\n",
              "    </tr>\n",
              "    <tr>\n",
              "      <th>2</th>\n",
              "      <td>Ashdod</td>\n",
              "      <td>[Ashdod]</td>\n",
              "      <td>11</td>\n",
              "      <td>11</td>\n",
              "      <td>[(13, &lt;Gan-Yavne&gt;), (26, &lt;Aluf Sade Interchang...</td>\n",
              "      <td>(Ashkelon, Gan-Yavne, Yavne)</td>\n",
              "      <td>False</td>\n",
              "    </tr>\n",
              "    <tr>\n",
              "      <th>3</th>\n",
              "      <td>Gan-Yavne</td>\n",
              "      <td>[Ashdod, Gan-Yavne]</td>\n",
              "      <td>12</td>\n",
              "      <td>12</td>\n",
              "      <td>[(25, &lt;Tel-Aviv&gt;), (26, &lt;Aluf Sade Interchange...</td>\n",
              "      <td>(Ashdod, Yavne)</td>\n",
              "      <td>False</td>\n",
              "    </tr>\n",
              "    <tr>\n",
              "      <th>4</th>\n",
              "      <td>Tel-Aviv</td>\n",
              "      <td>[Tel-Aviv]</td>\n",
              "      <td>25</td>\n",
              "      <td>25</td>\n",
              "      <td>[(26, &lt;Aluf Sade Interchange&gt;), (46, &lt;Ashkelon&gt;)]</td>\n",
              "      <td>(Yavne, Aluf Sade Interchange)</td>\n",
              "      <td>False</td>\n",
              "    </tr>\n",
              "    <tr>\n",
              "      <th>5</th>\n",
              "      <td>Aluf Sade Interchange</td>\n",
              "      <td>[Aluf Sade Interchange]</td>\n",
              "      <td>26</td>\n",
              "      <td>26</td>\n",
              "      <td>[(46, &lt;Ashkelon&gt;)]</td>\n",
              "      <td>(Yavne, Tel-Aviv, Rehovot, Bar-Ilan University)</td>\n",
              "      <td>False</td>\n",
              "    </tr>\n",
              "    <tr>\n",
              "      <th>6</th>\n",
              "      <td>Bar-Ilan University</td>\n",
              "      <td>[Aluf Sade Interchange, Bar-Ilan University]</td>\n",
              "      <td>27</td>\n",
              "      <td>27</td>\n",
              "      <td>[(46, &lt;Ashkelon&gt;)]</td>\n",
              "      <td>(Aluf Sade Interchange, Kiryat Ono)</td>\n",
              "      <td>True</td>\n",
              "    </tr>\n",
              "  </tbody>\n",
              "</table>"
            ],
            "text/plain": [
              "<IPython.core.display.HTML object>"
            ]
          },
          "metadata": {
            "tags": []
          }
        }
      ]
    },
    {
      "cell_type": "code",
      "metadata": {
        "id": "YDVqIs3ee_c-",
        "colab": {
          "base_uri": "https://localhost:8080/",
          "height": 331
        },
        "outputId": "d1933110-dac2-44c0-f228-e9d30aa6d173"
      },
      "source": [
        "routing_problem2 = RoutingProblem('S','G',G2)\n",
        "solution, log = uniform_cost_search(routing_problem2)\n",
        "print(f'Solution: {solution}')\n",
        "format_search_with_costs_log(log)"
      ],
      "execution_count": null,
      "outputs": [
        {
          "output_type": "stream",
          "text": [
            "size of closed list:0\n",
            "Solution: ['A', 'E', 'F', 'G']\n"
          ],
          "name": "stdout"
        },
        {
          "output_type": "display_data",
          "data": {
            "text/html": [
              "<table border=\"1\" class=\"dataframe\">\n",
              "  <thead>\n",
              "    <tr style=\"text-align: right;\">\n",
              "      <th></th>\n",
              "      <th>node to expand</th>\n",
              "      <th>path</th>\n",
              "      <th>g</th>\n",
              "      <th>f</th>\n",
              "      <th>left in frontier</th>\n",
              "      <th>valid actions</th>\n",
              "      <th>is_goal</th>\n",
              "    </tr>\n",
              "  </thead>\n",
              "  <tbody>\n",
              "    <tr>\n",
              "      <th>0</th>\n",
              "      <td>S</td>\n",
              "      <td>[]</td>\n",
              "      <td>0</td>\n",
              "      <td>0</td>\n",
              "      <td>[]</td>\n",
              "      <td>(A, D)</td>\n",
              "      <td>False</td>\n",
              "    </tr>\n",
              "    <tr>\n",
              "      <th>1</th>\n",
              "      <td>D</td>\n",
              "      <td>[D]</td>\n",
              "      <td>4</td>\n",
              "      <td>4</td>\n",
              "      <td>[(5, &lt;A&gt;)]</td>\n",
              "      <td>(S, E)</td>\n",
              "      <td>False</td>\n",
              "    </tr>\n",
              "    <tr>\n",
              "      <th>2</th>\n",
              "      <td>A</td>\n",
              "      <td>[A]</td>\n",
              "      <td>5</td>\n",
              "      <td>5</td>\n",
              "      <td>[(7, &lt;E&gt;)]</td>\n",
              "      <td>(S, B, E)</td>\n",
              "      <td>False</td>\n",
              "    </tr>\n",
              "    <tr>\n",
              "      <th>3</th>\n",
              "      <td>E</td>\n",
              "      <td>[A, E]</td>\n",
              "      <td>6</td>\n",
              "      <td>6</td>\n",
              "      <td>[(9, &lt;B&gt;)]</td>\n",
              "      <td>(D, F, A, B)</td>\n",
              "      <td>False</td>\n",
              "    </tr>\n",
              "    <tr>\n",
              "      <th>4</th>\n",
              "      <td>B</td>\n",
              "      <td>[A, B]</td>\n",
              "      <td>9</td>\n",
              "      <td>9</td>\n",
              "      <td>[(10, &lt;F&gt;)]</td>\n",
              "      <td>(A, C, E)</td>\n",
              "      <td>False</td>\n",
              "    </tr>\n",
              "    <tr>\n",
              "      <th>5</th>\n",
              "      <td>F</td>\n",
              "      <td>[A, E, F]</td>\n",
              "      <td>10</td>\n",
              "      <td>10</td>\n",
              "      <td>[(13, &lt;C&gt;)]</td>\n",
              "      <td>(E, G)</td>\n",
              "      <td>False</td>\n",
              "    </tr>\n",
              "    <tr>\n",
              "      <th>6</th>\n",
              "      <td>C</td>\n",
              "      <td>[A, B, C]</td>\n",
              "      <td>13</td>\n",
              "      <td>13</td>\n",
              "      <td>[(13, &lt;G&gt;)]</td>\n",
              "      <td>(B)</td>\n",
              "      <td>False</td>\n",
              "    </tr>\n",
              "    <tr>\n",
              "      <th>7</th>\n",
              "      <td>G</td>\n",
              "      <td>[A, E, F, G]</td>\n",
              "      <td>13</td>\n",
              "      <td>13</td>\n",
              "      <td>[]</td>\n",
              "      <td>(F)</td>\n",
              "      <td>True</td>\n",
              "    </tr>\n",
              "  </tbody>\n",
              "</table>"
            ],
            "text/plain": [
              "<IPython.core.display.HTML object>"
            ]
          },
          "metadata": {
            "tags": []
          }
        }
      ]
    },
    {
      "cell_type": "code",
      "metadata": {
        "id": "EZqlmz8CZIU1",
        "colab": {
          "base_uri": "https://localhost:8080/",
          "height": 34
        },
        "outputId": "56b1b821-8da0-416f-cc61-9058820d442d"
      },
      "source": [
        "G2['S']"
      ],
      "execution_count": null,
      "outputs": [
        {
          "output_type": "execute_result",
          "data": {
            "text/plain": [
              "{'A': 5, 'D': 4}"
            ]
          },
          "metadata": {
            "tags": []
          },
          "execution_count": 20
        }
      ]
    },
    {
      "cell_type": "markdown",
      "metadata": {
        "id": "ZRcMCchZaPCW"
      },
      "source": [
        "# Informed Search algorithms"
      ]
    },
    {
      "cell_type": "markdown",
      "metadata": {
        "id": "8FFKxRGraT5X"
      },
      "source": [
        "## Implementation"
      ]
    },
    {
      "cell_type": "code",
      "metadata": {
        "id": "La6IyTAev80e"
      },
      "source": [
        "def greedy_best_first_graph_search(problem, h):\n",
        "  return best_first_graph_search(problem, f=h)\n",
        "\n",
        "def astar_search(problem, h):\n",
        "  def g(node):\n",
        "    return node.path_cost\n",
        "  return best_first_graph_search(problem, f=lambda n: g(n)+h(n))"
      ],
      "execution_count": null,
      "outputs": []
    },
    {
      "cell_type": "markdown",
      "metadata": {
        "id": "sPWY1m0TLvWc"
      },
      "source": [
        "## Playing around"
      ]
    },
    {
      "cell_type": "code",
      "metadata": {
        "id": "HInxDHH6Lwxw"
      },
      "source": [
        "#h1: number of misplaced tiles (note that blank is not counted)\n",
        "class TilePuzzleMisplacedTiles:\n",
        "  def __init__(self, n):\n",
        "    self.goal = tuple(range(0,n**2))\n",
        "  def h(self,node):\n",
        "    return sum(s != g for (s, g) in zip(node.state, self.goal))- int(node.state[0]!=0)\n",
        "\n",
        "#h2: sum of manhattan distances of all tiles (note that blank is not counted)\n",
        "class TilePuzzleManhattanDistance:\n",
        "  def __init__(self, n):\n",
        "    self.goal = tuple(range(1,n**2)) #note that blank is omitted\n",
        "  def h(self,node):\n",
        "    res = 0\n",
        "    for i in self.goal:\n",
        "      x,y = i//3 , i%3\n",
        "      nx,ny = node.state.index(i)//3 , node.state.index(i)%3\n",
        "      res+= abs(x-nx) + abs(y-ny)\n",
        "    return res"
      ],
      "execution_count": null,
      "outputs": []
    },
    {
      "cell_type": "code",
      "metadata": {
        "id": "Z5aa6RWbeQWK",
        "colab": {
          "base_uri": "https://localhost:8080/",
          "height": 343
        },
        "outputId": "fb99847d-4226-408f-b0d5-eff89807094a"
      },
      "source": [
        "solution, log = astar_search(tile_puzzle_problem, h=TilePuzzleMisplacedTiles(3).h)\n",
        "print(f'Solution: {solution}')\n",
        "format_search_with_costs_log(log)"
      ],
      "execution_count": null,
      "outputs": [
        {
          "output_type": "stream",
          "text": [
            "size of closed list:0\n",
            "Solution: ['up', 'left', 'up']\n"
          ],
          "name": "stdout"
        },
        {
          "output_type": "display_data",
          "data": {
            "text/html": [
              "<table border=\"1\" class=\"dataframe\">\n",
              "  <thead>\n",
              "    <tr style=\"text-align: right;\">\n",
              "      <th></th>\n",
              "      <th>node to expand</th>\n",
              "      <th>path</th>\n",
              "      <th>g</th>\n",
              "      <th>f</th>\n",
              "      <th>left in frontier</th>\n",
              "      <th>valid actions</th>\n",
              "      <th>is_goal</th>\n",
              "    </tr>\n",
              "  </thead>\n",
              "  <tbody>\n",
              "    <tr>\n",
              "      <th>0</th>\n",
              "      <td>(3, 1, 2)<br>(4, 7, 5)<br>(6, 0, 8)</td>\n",
              "      <td>[]</td>\n",
              "      <td>0</td>\n",
              "      <td>3</td>\n",
              "      <td>[]</td>\n",
              "      <td>[left, right, up]</td>\n",
              "      <td>False</td>\n",
              "    </tr>\n",
              "    <tr>\n",
              "      <th>1</th>\n",
              "      <td>(3, 1, 2)<br>(4, 0, 5)<br>(6, 7, 8)</td>\n",
              "      <td>[up]</td>\n",
              "      <td>1</td>\n",
              "      <td>3</td>\n",
              "      <td>[(5, &lt;(3, 1, 2, 4, 7, 5, 0, 6, 8)&gt;), (5, &lt;(3, ...</td>\n",
              "      <td>[left, right, up, down]</td>\n",
              "      <td>False</td>\n",
              "    </tr>\n",
              "    <tr>\n",
              "      <th>2</th>\n",
              "      <td>(3, 1, 2)<br>(0, 4, 5)<br>(6, 7, 8)</td>\n",
              "      <td>[up, left]</td>\n",
              "      <td>2</td>\n",
              "      <td>3</td>\n",
              "      <td>[(5, &lt;(3, 0, 2, 4, 1, 5, 6, 7, 8)&gt;), (5, &lt;(3, ...</td>\n",
              "      <td>[right, up, down]</td>\n",
              "      <td>False</td>\n",
              "    </tr>\n",
              "    <tr>\n",
              "      <th>3</th>\n",
              "      <td>(0, 1, 2)<br>(3, 4, 5)<br>(6, 7, 8)</td>\n",
              "      <td>[up, left, up]</td>\n",
              "      <td>3</td>\n",
              "      <td>3</td>\n",
              "      <td>[(5, &lt;(3, 0, 2, 4, 1, 5, 6, 7, 8)&gt;), (5, &lt;(3, ...</td>\n",
              "      <td>[right, down]</td>\n",
              "      <td>True</td>\n",
              "    </tr>\n",
              "  </tbody>\n",
              "</table>"
            ],
            "text/plain": [
              "<IPython.core.display.HTML object>"
            ]
          },
          "metadata": {
            "tags": []
          }
        }
      ]
    },
    {
      "cell_type": "code",
      "metadata": {
        "id": "O1CA3Z1zSBE6",
        "colab": {
          "base_uri": "https://localhost:8080/",
          "height": 34
        },
        "outputId": "f3036c67-088d-4ec0-e50e-61c7921d3415"
      },
      "source": [
        "hard_s_start = (7, 2, 4,\n",
        "                5, 0, 6,\n",
        "                8, 3, 1)\n",
        "\n",
        "h1 = TilePuzzleMisplacedTiles(3).h\n",
        "h2 = TilePuzzleManhattanDistance(3).h\n",
        "n = Node(hard_s_start)\n",
        "print(f'Number of misplaced tiles: {h1(n)}. Manhattan Distance: {h2(n)}.')"
      ],
      "execution_count": null,
      "outputs": [
        {
          "output_type": "stream",
          "text": [
            "Number of misplaced tiles: 8. Manhattan Distance: 18.\n"
          ],
          "name": "stdout"
        }
      ]
    },
    {
      "cell_type": "code",
      "metadata": {
        "id": "p_8j2V8Weqc6",
        "colab": {
          "base_uri": "https://localhost:8080/",
          "height": 801
        },
        "outputId": "cd7ed768-ae99-4392-e028-24ab849532c4"
      },
      "source": [
        "hard_tile_puzzle_problem = TilePuzzleProblem(hard_s_start, 3)\n",
        "\n",
        "#solution, log = astar_search(hard_tile_puzzle_problem, h=h1) #<= this will take a while to run\n",
        "%time solution, log = astar_search(hard_tile_puzzle_problem, h=h2)\n",
        "print(f'Solution of length {len(solution)}: {solution}')\n",
        "format_search_with_costs_log(log,limit=10)"
      ],
      "execution_count": null,
      "outputs": [
        {
          "output_type": "stream",
          "text": [
            "size of closed list:0\n",
            "size of closed list:1000\n",
            "size of closed list:2000\n",
            "CPU times: user 2.52 s, sys: 56.6 ms, total: 2.57 s\n",
            "Wall time: 2.58 s\n",
            "Solution of length 26: ['left', 'up', 'right', 'down', 'right', 'down', 'left', 'left', 'up', 'right', 'right', 'down', 'left', 'left', 'up', 'right', 'right', 'up', 'left', 'left', 'down', 'right', 'right', 'up', 'left', 'left']\n"
          ],
          "name": "stdout"
        },
        {
          "output_type": "display_data",
          "data": {
            "text/html": [
              "<table border=\"1\" class=\"dataframe\">\n",
              "  <thead>\n",
              "    <tr style=\"text-align: right;\">\n",
              "      <th></th>\n",
              "      <th>node to expand</th>\n",
              "      <th>path</th>\n",
              "      <th>g</th>\n",
              "      <th>f</th>\n",
              "      <th>left in frontier</th>\n",
              "      <th>valid actions</th>\n",
              "      <th>is_goal</th>\n",
              "    </tr>\n",
              "  </thead>\n",
              "  <tbody>\n",
              "    <tr>\n",
              "      <th>0</th>\n",
              "      <td>(7, 2, 4)<br>(5, 0, 6)<br>(8, 3, 1)</td>\n",
              "      <td>[]</td>\n",
              "      <td>0</td>\n",
              "      <td>18</td>\n",
              "      <td>[]</td>\n",
              "      <td>[left, right, up, down]</td>\n",
              "      <td>False</td>\n",
              "    </tr>\n",
              "    <tr>\n",
              "      <th>1</th>\n",
              "      <td>(7, 2, 4)<br>(0, 5, 6)<br>(8, 3, 1)</td>\n",
              "      <td>[left]</td>\n",
              "      <td>1</td>\n",
              "      <td>18</td>\n",
              "      <td>[(18, &lt;(7, 2, 4, 5, 3, 6, 8, 0, 1)&gt;), (18, &lt;(7...</td>\n",
              "      <td>[right, up, down]</td>\n",
              "      <td>False</td>\n",
              "    </tr>\n",
              "    <tr>\n",
              "      <th>2</th>\n",
              "      <td>(0, 2, 4)<br>(7, 5, 6)<br>(8, 3, 1)</td>\n",
              "      <td>[left, up]</td>\n",
              "      <td>2</td>\n",
              "      <td>18</td>\n",
              "      <td>[(18, &lt;(7, 2, 4, 5, 3, 6, 8, 0, 1)&gt;), (18, &lt;(7...</td>\n",
              "      <td>[right, down]</td>\n",
              "      <td>False</td>\n",
              "    </tr>\n",
              "    <tr>\n",
              "      <th>3</th>\n",
              "      <td>(7, 2, 4)<br>(5, 3, 6)<br>(8, 0, 1)</td>\n",
              "      <td>[down]</td>\n",
              "      <td>1</td>\n",
              "      <td>18</td>\n",
              "      <td>[(18, &lt;(7, 2, 4, 5, 6, 0, 8, 3, 1)&gt;), (20, &lt;(2...</td>\n",
              "      <td>[left, right, up]</td>\n",
              "      <td>False</td>\n",
              "    </tr>\n",
              "    <tr>\n",
              "      <th>4</th>\n",
              "      <td>(7, 2, 4)<br>(5, 3, 6)<br>(0, 8, 1)</td>\n",
              "      <td>[down, left]</td>\n",
              "      <td>2</td>\n",
              "      <td>18</td>\n",
              "      <td>[(18, &lt;(7, 2, 4, 5, 3, 6, 8, 1, 0)&gt;), (18, &lt;(7...</td>\n",
              "      <td>[right, up]</td>\n",
              "      <td>False</td>\n",
              "    </tr>\n",
              "    <tr>\n",
              "      <th>5</th>\n",
              "      <td>(7, 2, 4)<br>(5, 3, 6)<br>(8, 1, 0)</td>\n",
              "      <td>[down, right]</td>\n",
              "      <td>2</td>\n",
              "      <td>18</td>\n",
              "      <td>[(18, &lt;(7, 2, 4, 5, 6, 0, 8, 3, 1)&gt;), (20, &lt;(2...</td>\n",
              "      <td>[left, up]</td>\n",
              "      <td>False</td>\n",
              "    </tr>\n",
              "    <tr>\n",
              "      <th>6</th>\n",
              "      <td>(7, 2, 4)<br>(5, 3, 0)<br>(8, 1, 6)</td>\n",
              "      <td>[down, right, up]</td>\n",
              "      <td>3</td>\n",
              "      <td>18</td>\n",
              "      <td>[(18, &lt;(7, 2, 4, 5, 6, 0, 8, 3, 1)&gt;), (20, &lt;(2...</td>\n",
              "      <td>[left, up, down]</td>\n",
              "      <td>False</td>\n",
              "    </tr>\n",
              "    <tr>\n",
              "      <th>7</th>\n",
              "      <td>(7, 2, 0)<br>(5, 3, 4)<br>(8, 1, 6)</td>\n",
              "      <td>[down, right, up, up]</td>\n",
              "      <td>4</td>\n",
              "      <td>18</td>\n",
              "      <td>[(18, &lt;(7, 2, 4, 5, 6, 0, 8, 3, 1)&gt;), (20, &lt;(2...</td>\n",
              "      <td>[left, down]</td>\n",
              "      <td>False</td>\n",
              "    </tr>\n",
              "    <tr>\n",
              "      <th>8</th>\n",
              "      <td>(7, 0, 2)<br>(5, 3, 4)<br>(8, 1, 6)</td>\n",
              "      <td>[down, right, up, up, left]</td>\n",
              "      <td>5</td>\n",
              "      <td>18</td>\n",
              "      <td>[(18, &lt;(7, 2, 4, 5, 6, 0, 8, 3, 1)&gt;), (20, &lt;(2...</td>\n",
              "      <td>[left, right, down]</td>\n",
              "      <td>False</td>\n",
              "    </tr>\n",
              "    <tr>\n",
              "      <th>9</th>\n",
              "      <td>(0, 7, 2)<br>(5, 3, 4)<br>(8, 1, 6)</td>\n",
              "      <td>[down, right, up, up, left, left]</td>\n",
              "      <td>6</td>\n",
              "      <td>18</td>\n",
              "      <td>[(18, &lt;(7, 2, 4, 5, 6, 0, 8, 3, 1)&gt;), (20, &lt;(2...</td>\n",
              "      <td>[right, down]</td>\n",
              "      <td>False</td>\n",
              "    </tr>\n",
              "  </tbody>\n",
              "</table>"
            ],
            "text/plain": [
              "<IPython.core.display.HTML object>"
            ]
          },
          "metadata": {
            "tags": []
          }
        }
      ]
    },
    {
      "cell_type": "code",
      "metadata": {
        "id": "AQ0cKXSTMGSA"
      },
      "source": [
        ""
      ],
      "execution_count": null,
      "outputs": []
    }
  ]
}